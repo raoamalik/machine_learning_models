{
 "cells": [
  {
   "cell_type": "markdown",
   "metadata": {},
   "source": [
    "### sklearn Pipeline\n",
    "The following example is taken from sklearn.pipeline documentation page"
   ]
  },
  {
   "cell_type": "code",
   "execution_count": 1,
   "metadata": {},
   "outputs": [
    {
     "ename": "NameError",
     "evalue": "name 'SVC' is not defined",
     "output_type": "error",
     "traceback": [
      "\u001b[0;31m---------------------------------------------------------------------------\u001b[0m",
      "\u001b[0;31mNameError\u001b[0m                                 Traceback (most recent call last)",
      "\u001b[0;32m<ipython-input-1-101d9b70507a>\u001b[0m in \u001b[0;36m<module>\u001b[0;34m\u001b[0m\n\u001b[1;32m     18\u001b[0m Pipeline(memory=None,\n\u001b[1;32m     19\u001b[0m          steps=[('anova', SelectKBest(...)),\n\u001b[0;32m---> 20\u001b[0;31m                 ('svc', SVC(...))], verbose=False)\n\u001b[0m\u001b[1;32m     21\u001b[0m \u001b[0mprediction\u001b[0m \u001b[0;34m=\u001b[0m \u001b[0manova_svm\u001b[0m\u001b[0;34m.\u001b[0m\u001b[0mpredict\u001b[0m\u001b[0;34m(\u001b[0m\u001b[0mX\u001b[0m\u001b[0;34m)\u001b[0m\u001b[0;34m\u001b[0m\u001b[0;34m\u001b[0m\u001b[0m\n\u001b[1;32m     22\u001b[0m \u001b[0manova_svm\u001b[0m\u001b[0;34m.\u001b[0m\u001b[0mscore\u001b[0m\u001b[0;34m(\u001b[0m\u001b[0mX\u001b[0m\u001b[0;34m,\u001b[0m \u001b[0my\u001b[0m\u001b[0;34m)\u001b[0m\u001b[0;34m\u001b[0m\u001b[0;34m\u001b[0m\u001b[0m\n",
      "\u001b[0;31mNameError\u001b[0m: name 'SVC' is not defined"
     ]
    }
   ],
   "source": [
    ">>> from sklearn import svm\n",
    ">>> from sklearn.datasets import samples_generator\n",
    ">>> from sklearn.feature_selection import SelectKBest\n",
    ">>> from sklearn.feature_selection import f_regression\n",
    ">>> from sklearn.pipeline import Pipeline\n",
    ">>> # generate some data to play with\n",
    ">>> X, y = samples_generator.make_classification(\n",
    "...     n_informative=5, n_redundant=0, random_state=42)\n",
    ">>> # ANOVA SVM-C\n",
    ">>> anova_filter = SelectKBest(f_regression, k=5)\n",
    ">>> clf = svm.SVC(kernel='linear')\n",
    ">>> anova_svm = Pipeline([('anova', anova_filter), ('svc', clf)])\n",
    ">>> # You can set the parameters using the names issued\n",
    ">>> # For instance, fit using a k of 10 in the SelectKBest\n",
    ">>> # and a parameter 'C' of the svm\n",
    ">>> anova_svm.set_params(anova__k=10, svc__C=.1).fit(X, y)\n",
    "... \n",
    "Pipeline(memory=None,\n",
    "         steps=[('anova', SelectKBest(...)),\n",
    "                ('svc', SVC(...))], verbose=False)\n",
    ">>> prediction = anova_svm.predict(X)\n",
    ">>> anova_svm.score(X, y)  \n",
    "0.83\n",
    ">>> # getting the selected features chosen by anova_filter\n",
    ">>> anova_svm['anova'].get_support()\n",
    "... \n",
    "array([False, False,  True,  True, False, False,  True,  True, False,\n",
    "       True, False,  True,  True, False,  True, False,  True,  True,\n",
    "       False, False])\n",
    ">>> # Another way to get selected features chosen by anova_filter\n",
    ">>> anova_svm.named_steps.anova.get_support()\n",
    "... \n",
    "array([False, False,  True,  True, False, False,  True,  True, False,\n",
    "       True, False,  True,  True, False,  True, False,  True,  True,\n",
    "       False, False])\n",
    ">>> # Indexing can also be used to extract a sub-pipeline.\n",
    ">>> sub_pipeline = anova_svm[:1]\n",
    ">>> sub_pipeline  \n",
    "Pipeline(memory=None, steps=[('anova', ...)], verbose=False)\n",
    ">>> coef = anova_svm[-1].coef_\n",
    ">>> anova_svm['svc'] is anova_svm[-1]\n",
    "True\n",
    ">>> coef.shape\n",
    "(1, 10)\n",
    ">>> sub_pipeline.inverse_transform(coef).shape\n",
    "(1, 20)\n"
   ]
  },
  {
   "cell_type": "code",
   "execution_count": null,
   "metadata": {},
   "outputs": [],
   "source": []
  }
 ],
 "metadata": {
  "kernelspec": {
   "display_name": "Python 3",
   "language": "python",
   "name": "python3"
  },
  "language_info": {
   "codemirror_mode": {
    "name": "ipython",
    "version": 3
   },
   "file_extension": ".py",
   "mimetype": "text/x-python",
   "name": "python",
   "nbconvert_exporter": "python",
   "pygments_lexer": "ipython3",
   "version": "3.7.3"
  }
 },
 "nbformat": 4,
 "nbformat_minor": 2
}
